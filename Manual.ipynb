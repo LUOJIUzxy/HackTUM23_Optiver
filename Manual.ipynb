{
 "cells": [
  {
   "cell_type": "markdown",
   "id": "93acf2f5-b609-454f-9f2c-6bcb30177087",
   "metadata": {},
   "source": [
    "# Setup"
   ]
  },
  {
   "cell_type": "code",
   "execution_count": 1,
   "id": "d8747b3f-8905-4336-9c4a-54744a8f40ba",
   "metadata": {},
   "outputs": [
    {
     "name": "stdout",
     "output_type": "stream",
     "text": [
      "Setup was successful.\n"
     ]
    }
   ],
   "source": [
    "from optibook.synchronous_client import Exchange\n",
    "\n",
    "import time\n",
    "import logging\n",
    "logger = logging.getLogger('client')\n",
    "logger.setLevel('ERROR')\n",
    "\n",
    "print(\"Setup was successful.\")"
   ]
  },
  {
   "cell_type": "markdown",
   "id": "9ddb57ce-ac0e-4c06-b163-762452401011",
   "metadata": {},
   "source": [
    "# Connecting to the Exchange"
   ]
  },
  {
   "cell_type": "code",
   "execution_count": 2,
   "id": "13dc8598-1e49-487c-ad39-3784eb7f7fa7",
   "metadata": {},
   "outputs": [
    {
     "name": "stderr",
     "output_type": "stream",
     "text": [
      "2023-11-17 23:05:13,813 [asyncio   ] [MainThread  ] Using selector: EpollSelector\n"
     ]
    }
   ],
   "source": [
    "exchange = Exchange()\n",
    "_ = exchange.connect()"
   ]
  },
  {
   "cell_type": "markdown",
   "id": "a403468f-0c55-48b1-834f-b806b34d3453",
   "metadata": {},
   "source": [
    "# Getting market information"
   ]
  },
  {
   "cell_type": "code",
   "execution_count": 3,
   "id": "a5bcb60e-8db1-458d-a7c9-cf17cc24bf3b",
   "metadata": {},
   "outputs": [
    {
     "data": {
      "text/plain": [
       "{'CSCO_B': Instrument(instrument_id=CSCO_B, tick_size=0.1, price_change_limit=PriceChangeLimit(absolute_change=50.0000, relative_change=50.00%), instrument_type=InstrumentType.STOCK, instrument_group=CSCO_B, paused=False, expired=False),\n",
       " 'SAN_B': Instrument(instrument_id=SAN_B, tick_size=0.1, price_change_limit=PriceChangeLimit(absolute_change=50.0000, relative_change=50.00%), instrument_type=InstrumentType.STOCK, instrument_group=SAN_B, paused=False, expired=False),\n",
       " 'PFE_B': Instrument(instrument_id=PFE_B, tick_size=0.1, price_change_limit=PriceChangeLimit(absolute_change=50.0000, relative_change=50.00%), instrument_type=InstrumentType.STOCK, instrument_group=PFE_B, paused=False, expired=False),\n",
       " 'ING_B': Instrument(instrument_id=ING_B, tick_size=0.1, price_change_limit=PriceChangeLimit(absolute_change=50.0000, relative_change=50.00%), instrument_type=InstrumentType.STOCK, instrument_group=ING_B, paused=False, expired=False),\n",
       " 'CSCO': Instrument(instrument_id=CSCO, tick_size=0.1, price_change_limit=PriceChangeLimit(absolute_change=50.0000, relative_change=50.00%), instrument_type=InstrumentType.STOCK, instrument_group=CSCO, paused=False, expired=False),\n",
       " 'NVDA_B': Instrument(instrument_id=NVDA_B, tick_size=0.1, price_change_limit=PriceChangeLimit(absolute_change=50.0000, relative_change=50.00%), instrument_type=InstrumentType.STOCK, instrument_group=NVDA_B, paused=False, expired=False),\n",
       " 'PFE': Instrument(instrument_id=PFE, tick_size=0.1, price_change_limit=PriceChangeLimit(absolute_change=50.0000, relative_change=50.00%), instrument_type=InstrumentType.STOCK, instrument_group=PFE, paused=False, expired=False),\n",
       " 'SAN': Instrument(instrument_id=SAN, tick_size=0.1, price_change_limit=PriceChangeLimit(absolute_change=50.0000, relative_change=50.00%), instrument_type=InstrumentType.STOCK, instrument_group=SAN, paused=False, expired=False),\n",
       " 'ING': Instrument(instrument_id=ING, tick_size=0.1, price_change_limit=PriceChangeLimit(absolute_change=50.0000, relative_change=50.00%), instrument_type=InstrumentType.STOCK, instrument_group=ING, paused=False, expired=False),\n",
       " 'NVDA': Instrument(instrument_id=NVDA, tick_size=0.1, price_change_limit=PriceChangeLimit(absolute_change=50.0000, relative_change=50.00%), instrument_type=InstrumentType.STOCK, instrument_group=NVDA, paused=False, expired=False)}"
      ]
     },
     "execution_count": 3,
     "metadata": {},
     "output_type": "execute_result"
    }
   ],
   "source": [
    "# Load all instruments (products) available on the exchange\n",
    "instruments = exchange.get_instruments()\n",
    "instruments"
   ]
  },
  {
   "cell_type": "code",
   "execution_count": 4,
   "id": "f1367f99-f94c-4554-9a26-6d79f13c10a6",
   "metadata": {},
   "outputs": [],
   "source": [
    "# Define a variable storing the instrument_id of the product we are interested in\n",
    "instrument_id = 'CSCO'"
   ]
  },
  {
   "cell_type": "markdown",
   "id": "b7285ae2-e965-47b5-bbc1-1faed44fdba5",
   "metadata": {},
   "source": [
    "### Order Book"
   ]
  },
  {
   "cell_type": "code",
   "execution_count": 5,
   "id": "ceec3a13-2e1f-4413-8b3b-3bbeb023e85a",
   "metadata": {},
   "outputs": [
    {
     "data": {
      "text/plain": [
       "PriceBook(CSCO 2023-11-17 23:05:40.261412)\n",
       " #bids | price | #asks \n",
       "       |  36.1 |  1105 \n",
       "       |  36.0 |   10  \n",
       "  480  |  35.7 |       \n",
       "  685  |  35.6 |       "
      ]
     },
     "execution_count": 5,
     "metadata": {},
     "output_type": "execute_result"
    }
   ],
   "source": [
    "# Load current limit order book for the instrument\n",
    "exchange.get_last_price_book(instrument_id)"
   ]
  },
  {
   "cell_type": "markdown",
   "id": "9274cb67-b70b-43d3-9071-06f8de8a4c16",
   "metadata": {},
   "source": [
    "### Public tradeticks"
   ]
  },
  {
   "cell_type": "code",
   "execution_count": 12,
   "id": "5eef657b-3e85-4bd4-aafc-06dad3a3ae5b",
   "metadata": {},
   "outputs": [
    {
     "data": {
      "text/plain": [
       "[TradeTick(timestamp=2023-11-17 23:07:07.319984, instrument_id=CSCO, price=36.2, volume=450, aggressor_side=bid, buyer=, seller=, trade_id=142725),\n",
       " TradeTick(timestamp=2023-11-17 23:07:08.121473, instrument_id=CSCO, price=36.1, volume=500, aggressor_side=ask, buyer=, seller=, trade_id=142731),\n",
       " TradeTick(timestamp=2023-11-17 23:07:08.265252, instrument_id=CSCO, price=36.1, volume=125, aggressor_side=ask, buyer=, seller=, trade_id=142735),\n",
       " TradeTick(timestamp=2023-11-17 23:07:10.616593, instrument_id=CSCO, price=36.0, volume=450, aggressor_side=ask, buyer=, seller=, trade_id=142765),\n",
       " TradeTick(timestamp=2023-11-17 23:07:15.756128, instrument_id=CSCO, price=36.1, volume=450, aggressor_side=bid, buyer=, seller=, trade_id=142814),\n",
       " TradeTick(timestamp=2023-11-17 23:07:23.295708, instrument_id=CSCO, price=36.1, volume=450, aggressor_side=bid, buyer=, seller=, trade_id=142885),\n",
       " TradeTick(timestamp=2023-11-17 23:07:24.232583, instrument_id=CSCO, price=36.1, volume=50, aggressor_side=bid, buyer=, seller=, trade_id=142897),\n",
       " TradeTick(timestamp=2023-11-17 23:07:24.232759, instrument_id=CSCO, price=36.1, volume=10, aggressor_side=bid, buyer=, seller=, trade_id=142898),\n",
       " TradeTick(timestamp=2023-11-17 23:07:24.232890, instrument_id=CSCO, price=36.1, volume=390, aggressor_side=bid, buyer=, seller=, trade_id=142899),\n",
       " TradeTick(timestamp=2023-11-17 23:07:27.416023, instrument_id=CSCO, price=36.1, volume=450, aggressor_side=bid, buyer=, seller=, trade_id=142927),\n",
       " TradeTick(timestamp=2023-11-17 23:07:28.312654, instrument_id=CSCO, price=35.9, volume=450, aggressor_side=ask, buyer=, seller=, trade_id=142938),\n",
       " TradeTick(timestamp=2023-11-17 23:07:29.545929, instrument_id=CSCO, price=36.1, volume=450, aggressor_side=bid, buyer=, seller=, trade_id=142944),\n",
       " TradeTick(timestamp=2023-11-17 23:07:30.472146, instrument_id=CSCO, price=36.0, volume=450, aggressor_side=bid, buyer=, seller=, trade_id=142957),\n",
       " TradeTick(timestamp=2023-11-17 23:07:31.547979, instrument_id=CSCO, price=36.1, volume=50, aggressor_side=bid, buyer=, seller=, trade_id=142966),\n",
       " TradeTick(timestamp=2023-11-17 23:07:31.548214, instrument_id=CSCO, price=36.1, volume=10, aggressor_side=bid, buyer=, seller=, trade_id=142967),\n",
       " TradeTick(timestamp=2023-11-17 23:07:31.548340, instrument_id=CSCO, price=36.2, volume=10, aggressor_side=bid, buyer=, seller=, trade_id=142968),\n",
       " TradeTick(timestamp=2023-11-17 23:07:34.356701, instrument_id=CSCO, price=36.0, volume=10, aggressor_side=ask, buyer=, seller=, trade_id=142989),\n",
       " TradeTick(timestamp=2023-11-17 23:07:34.356998, instrument_id=CSCO, price=35.9, volume=10, aggressor_side=ask, buyer=, seller=, trade_id=142990),\n",
       " TradeTick(timestamp=2023-11-17 23:07:34.357145, instrument_id=CSCO, price=35.9, volume=430, aggressor_side=ask, buyer=, seller=, trade_id=142991),\n",
       " TradeTick(timestamp=2023-11-17 23:07:35.600047, instrument_id=CSCO, price=36.1, volume=450, aggressor_side=bid, buyer=, seller=, trade_id=143003),\n",
       " TradeTick(timestamp=2023-11-17 23:07:38.776297, instrument_id=CSCO, price=35.800000000000004, volume=450, aggressor_side=ask, buyer=, seller=, trade_id=143026),\n",
       " TradeTick(timestamp=2023-11-17 23:07:41.104040, instrument_id=CSCO, price=35.800000000000004, volume=10, aggressor_side=ask, buyer=, seller=, trade_id=143054),\n",
       " TradeTick(timestamp=2023-11-17 23:07:41.104306, instrument_id=CSCO, price=35.800000000000004, volume=10, aggressor_side=ask, buyer=, seller=, trade_id=143055),\n",
       " TradeTick(timestamp=2023-11-17 23:07:41.104440, instrument_id=CSCO, price=35.800000000000004, volume=430, aggressor_side=ask, buyer=, seller=, trade_id=143056),\n",
       " TradeTick(timestamp=2023-11-17 23:07:42.555911, instrument_id=CSCO, price=36.1, volume=450, aggressor_side=bid, buyer=, seller=, trade_id=143071),\n",
       " TradeTick(timestamp=2023-11-17 23:07:43.972232, instrument_id=CSCO, price=35.9, volume=450, aggressor_side=ask, buyer=, seller=, trade_id=143087),\n",
       " TradeTick(timestamp=2023-11-17 23:07:45.584051, instrument_id=CSCO, price=35.800000000000004, volume=10, aggressor_side=ask, buyer=, seller=, trade_id=143102),\n",
       " TradeTick(timestamp=2023-11-17 23:07:45.584297, instrument_id=CSCO, price=35.800000000000004, volume=500, aggressor_side=ask, buyer=, seller=, trade_id=143103),\n",
       " TradeTick(timestamp=2023-11-17 23:07:46.339857, instrument_id=CSCO, price=35.6, volume=450, aggressor_side=ask, buyer=, seller=, trade_id=143107),\n",
       " TradeTick(timestamp=2023-11-17 23:07:48.487727, instrument_id=CSCO, price=35.800000000000004, volume=10, aggressor_side=bid, buyer=, seller=, trade_id=143131),\n",
       " TradeTick(timestamp=2023-11-17 23:07:50.652310, instrument_id=CSCO, price=35.800000000000004, volume=480, aggressor_side=ask, buyer=, seller=, trade_id=143151),\n",
       " TradeTick(timestamp=2023-11-17 23:07:53.447005, instrument_id=CSCO, price=35.800000000000004, volume=450, aggressor_side=ask, buyer=, seller=, trade_id=143180),\n",
       " TradeTick(timestamp=2023-11-17 23:07:56.180415, instrument_id=CSCO, price=35.9, volume=450, aggressor_side=bid, buyer=, seller=, trade_id=143205),\n",
       " TradeTick(timestamp=2023-11-17 23:07:57.330622, instrument_id=CSCO, price=36.1, volume=10, aggressor_side=bid, buyer=, seller=, trade_id=143219),\n",
       " TradeTick(timestamp=2023-11-17 23:07:57.331066, instrument_id=CSCO, price=36.1, volume=10, aggressor_side=bid, buyer=, seller=, trade_id=143220),\n",
       " TradeTick(timestamp=2023-11-17 23:07:57.331246, instrument_id=CSCO, price=36.1, volume=430, aggressor_side=bid, buyer=, seller=, trade_id=143221),\n",
       " TradeTick(timestamp=2023-11-17 23:07:58.367498, instrument_id=CSCO, price=35.800000000000004, volume=450, aggressor_side=ask, buyer=, seller=, trade_id=143231),\n",
       " TradeTick(timestamp=2023-11-17 23:07:59.832037, instrument_id=CSCO, price=36.0, volume=450, aggressor_side=bid, buyer=, seller=, trade_id=143241),\n",
       " TradeTick(timestamp=2023-11-17 23:08:04.777178, instrument_id=CSCO, price=36.1, volume=10, aggressor_side=bid, buyer=, seller=, trade_id=143293),\n",
       " TradeTick(timestamp=2023-11-17 23:08:04.777406, instrument_id=CSCO, price=36.1, volume=10, aggressor_side=bid, buyer=, seller=, trade_id=143294),\n",
       " TradeTick(timestamp=2023-11-17 23:08:04.777509, instrument_id=CSCO, price=36.1, volume=430, aggressor_side=bid, buyer=, seller=, trade_id=143295),\n",
       " TradeTick(timestamp=2023-11-17 23:08:06.315645, instrument_id=CSCO, price=36.1, volume=10, aggressor_side=bid, buyer=, seller=, trade_id=143331),\n",
       " TradeTick(timestamp=2023-11-17 23:08:06.496358, instrument_id=CSCO, price=36.1, volume=10, aggressor_side=bid, buyer=, seller=, trade_id=143334),\n",
       " TradeTick(timestamp=2023-11-17 23:08:06.617089, instrument_id=CSCO, price=36.1, volume=10, aggressor_side=bid, buyer=, seller=, trade_id=143337),\n",
       " TradeTick(timestamp=2023-11-17 23:08:07.456185, instrument_id=CSCO, price=36.0, volume=480, aggressor_side=ask, buyer=, seller=, trade_id=143343),\n",
       " TradeTick(timestamp=2023-11-17 23:08:08.749327, instrument_id=CSCO, price=36.0, volume=145, aggressor_side=bid, buyer=, seller=, trade_id=143377),\n",
       " TradeTick(timestamp=2023-11-17 23:08:10.976101, instrument_id=CSCO, price=36.1, volume=450, aggressor_side=bid, buyer=, seller=, trade_id=143419),\n",
       " TradeTick(timestamp=2023-11-17 23:08:12.148691, instrument_id=CSCO, price=36.2, volume=10, aggressor_side=bid, buyer=, seller=, trade_id=143441),\n",
       " TradeTick(timestamp=2023-11-17 23:08:12.148953, instrument_id=CSCO, price=36.2, volume=470, aggressor_side=bid, buyer=, seller=, trade_id=143442),\n",
       " TradeTick(timestamp=2023-11-17 23:08:12.444113, instrument_id=CSCO, price=36.2, volume=30, aggressor_side=bid, buyer=, seller=, trade_id=143451),\n",
       " TradeTick(timestamp=2023-11-17 23:08:12.444468, instrument_id=CSCO, price=36.2, volume=10, aggressor_side=bid, buyer=, seller=, trade_id=143452),\n",
       " TradeTick(timestamp=2023-11-17 23:08:12.444572, instrument_id=CSCO, price=36.2, volume=10, aggressor_side=bid, buyer=, seller=, trade_id=143453),\n",
       " TradeTick(timestamp=2023-11-17 23:08:12.444694, instrument_id=CSCO, price=36.300000000000004, volume=400, aggressor_side=bid, buyer=, seller=, trade_id=143454),\n",
       " TradeTick(timestamp=2023-11-17 23:08:13.183493, instrument_id=CSCO, price=36.2, volume=10, aggressor_side=ask, buyer=, seller=, trade_id=143467),\n",
       " TradeTick(timestamp=2023-11-17 23:08:13.344523, instrument_id=CSCO, price=36.2, volume=10, aggressor_side=ask, buyer=, seller=, trade_id=143470),\n",
       " TradeTick(timestamp=2023-11-17 23:08:13.453562, instrument_id=CSCO, price=36.2, volume=480, aggressor_side=ask, buyer=, seller=, trade_id=143477),\n",
       " TradeTick(timestamp=2023-11-17 23:08:13.498873, instrument_id=CSCO, price=36.300000000000004, volume=10, aggressor_side=bid, buyer=, seller=, trade_id=143479),\n",
       " TradeTick(timestamp=2023-11-17 23:08:13.508504, instrument_id=CSCO, price=36.2, volume=10, aggressor_side=ask, buyer=, seller=, trade_id=143480),\n",
       " TradeTick(timestamp=2023-11-17 23:08:13.662127, instrument_id=CSCO, price=36.2, volume=115, aggressor_side=ask, buyer=, seller=, trade_id=143484),\n",
       " TradeTick(timestamp=2023-11-17 23:08:13.662601, instrument_id=CSCO, price=36.2, volume=10, aggressor_side=ask, buyer=, seller=, trade_id=143485),\n",
       " TradeTick(timestamp=2023-11-17 23:08:14.397922, instrument_id=CSCO, price=36.0, volume=10, aggressor_side=ask, buyer=, seller=, trade_id=143492),\n",
       " TradeTick(timestamp=2023-11-17 23:08:14.689065, instrument_id=CSCO, price=36.2, volume=10, aggressor_side=bid, buyer=, seller=, trade_id=143501),\n",
       " TradeTick(timestamp=2023-11-17 23:08:14.812368, instrument_id=CSCO, price=36.2, volume=10, aggressor_side=bid, buyer=, seller=, trade_id=143507),\n",
       " TradeTick(timestamp=2023-11-17 23:08:14.991334, instrument_id=CSCO, price=36.2, volume=10, aggressor_side=bid, buyer=, seller=, trade_id=143510),\n",
       " TradeTick(timestamp=2023-11-17 23:08:15.995240, instrument_id=CSCO, price=36.1, volume=480, aggressor_side=ask, buyer=, seller=, trade_id=143524),\n",
       " TradeTick(timestamp=2023-11-17 23:08:15.995661, instrument_id=CSCO, price=36.1, volume=10, aggressor_side=ask, buyer=, seller=, trade_id=143525),\n",
       " TradeTick(timestamp=2023-11-17 23:08:16.753129, instrument_id=CSCO, price=36.1, volume=135, aggressor_side=bid, buyer=, seller=, trade_id=143541),\n",
       " TradeTick(timestamp=2023-11-17 23:08:20.992424, instrument_id=CSCO, price=36.1, volume=10, aggressor_side=ask, buyer=, seller=, trade_id=143595),\n",
       " TradeTick(timestamp=2023-11-17 23:08:21.319686, instrument_id=CSCO, price=36.2, volume=450, aggressor_side=bid, buyer=, seller=, trade_id=143606),\n",
       " TradeTick(timestamp=2023-11-17 23:08:22.404017, instrument_id=CSCO, price=36.1, volume=10, aggressor_side=ask, buyer=, seller=, trade_id=143616),\n",
       " TradeTick(timestamp=2023-11-17 23:08:22.404269, instrument_id=CSCO, price=36.0, volume=10, aggressor_side=ask, buyer=, seller=, trade_id=143617),\n",
       " TradeTick(timestamp=2023-11-17 23:08:22.404394, instrument_id=CSCO, price=36.0, volume=10, aggressor_side=ask, buyer=, seller=, trade_id=143618),\n",
       " TradeTick(timestamp=2023-11-17 23:08:22.404506, instrument_id=CSCO, price=36.0, volume=420, aggressor_side=ask, buyer=, seller=, trade_id=143619),\n",
       " TradeTick(timestamp=2023-11-17 23:08:23.052440, instrument_id=CSCO, price=36.300000000000004, volume=10, aggressor_side=bid, buyer=, seller=, trade_id=143634),\n",
       " TradeTick(timestamp=2023-11-17 23:08:23.673165, instrument_id=CSCO, price=36.0, volume=450, aggressor_side=ask, buyer=, seller=, trade_id=143650),\n",
       " TradeTick(timestamp=2023-11-17 23:08:24.388027, instrument_id=CSCO, price=36.0, volume=10, aggressor_side=ask, buyer=, seller=, trade_id=143658),\n",
       " TradeTick(timestamp=2023-11-17 23:08:24.388338, instrument_id=CSCO, price=36.0, volume=10, aggressor_side=ask, buyer=, seller=, trade_id=143659),\n",
       " TradeTick(timestamp=2023-11-17 23:08:26.177875, instrument_id=CSCO, price=35.9, volume=450, aggressor_side=ask, buyer=, seller=, trade_id=143683),\n",
       " TradeTick(timestamp=2023-11-17 23:08:27.129452, instrument_id=CSCO, price=36.0, volume=450, aggressor_side=bid, buyer=, seller=, trade_id=143691),\n",
       " TradeTick(timestamp=2023-11-17 23:08:28.524054, instrument_id=CSCO, price=36.1, volume=10, aggressor_side=bid, buyer=, seller=, trade_id=143704),\n",
       " TradeTick(timestamp=2023-11-17 23:08:28.524319, instrument_id=CSCO, price=36.1, volume=440, aggressor_side=bid, buyer=, seller=, trade_id=143705),\n",
       " TradeTick(timestamp=2023-11-17 23:08:29.931993, instrument_id=CSCO, price=36.1, volume=10, aggressor_side=bid, buyer=, seller=, trade_id=143712),\n",
       " TradeTick(timestamp=2023-11-17 23:08:30.540158, instrument_id=CSCO, price=36.2, volume=10, aggressor_side=bid, buyer=, seller=, trade_id=143716),\n",
       " TradeTick(timestamp=2023-11-17 23:08:30.540574, instrument_id=CSCO, price=36.2, volume=500, aggressor_side=bid, buyer=, seller=, trade_id=143717),\n",
       " TradeTick(timestamp=2023-11-17 23:08:30.684461, instrument_id=CSCO, price=36.2, volume=10, aggressor_side=ask, buyer=, seller=, trade_id=143719),\n",
       " TradeTick(timestamp=2023-11-17 23:08:30.803177, instrument_id=CSCO, price=36.2, volume=105, aggressor_side=ask, buyer=, seller=, trade_id=143720),\n",
       " TradeTick(timestamp=2023-11-17 23:08:31.913688, instrument_id=CSCO, price=36.2, volume=10, aggressor_side=bid, buyer=, seller=, trade_id=143733)]"
      ]
     },
     "execution_count": 12,
     "metadata": {},
     "output_type": "execute_result"
    },
    {
     "name": "stderr",
     "output_type": "stream",
     "text": [
      "2023-11-17 23:11:37,059 [client    ] [Thread-5    ] Forcing a disconnect due to an error: Closing connection because someone else logged in with the same credentials. Only one session may be active at the same time.\n"
     ]
    }
   ],
   "source": [
    "# Load and store a list of all public tradeticks since the instantiation of the Exchange (upto a max limit)\n",
    "# These are trades between any participant, you may or may not have participated in these\n",
    "trade_tick_history = exchange.get_trade_tick_history(instrument_id)\n",
    "\n",
    "# Display last 5\n",
    "trade_tick_history[-100:]"
   ]
  },
  {
   "cell_type": "code",
   "execution_count": 7,
   "id": "99f5730b-b23c-4adf-a88f-c1394ab03aa0",
   "metadata": {},
   "outputs": [
    {
     "data": {
      "text/plain": [
       "[TradeTick(timestamp=2023-11-17 23:05:15.724097, instrument_id=CSCO, price=35.5, volume=450, aggressor_side=ask, buyer=, seller=, trade_id=141751),\n",
       " TradeTick(timestamp=2023-11-17 23:05:16.615202, instrument_id=CSCO, price=35.5, volume=50, aggressor_side=ask, buyer=, seller=, trade_id=141760),\n",
       " TradeTick(timestamp=2023-11-17 23:05:16.615442, instrument_id=CSCO, price=35.5, volume=10, aggressor_side=ask, buyer=, seller=, trade_id=141761),\n",
       " TradeTick(timestamp=2023-11-17 23:05:20.085388, instrument_id=CSCO, price=35.6, volume=450, aggressor_side=ask, buyer=, seller=, trade_id=141791),\n",
       " TradeTick(timestamp=2023-11-17 23:05:21.276003, instrument_id=CSCO, price=35.7, volume=480, aggressor_side=ask, buyer=, seller=, trade_id=141795),\n",
       " TradeTick(timestamp=2023-11-17 23:05:21.483983, instrument_id=CSCO, price=35.7, volume=145, aggressor_side=ask, buyer=, seller=, trade_id=141798),\n",
       " TradeTick(timestamp=2023-11-17 23:05:22.510038, instrument_id=CSCO, price=35.9, volume=450, aggressor_side=bid, buyer=, seller=, trade_id=141812),\n",
       " TradeTick(timestamp=2023-11-17 23:05:23.911956, instrument_id=CSCO, price=35.800000000000004, volume=10, aggressor_side=bid, buyer=, seller=, trade_id=141823),\n",
       " TradeTick(timestamp=2023-11-17 23:05:23.912252, instrument_id=CSCO, price=35.800000000000004, volume=440, aggressor_side=bid, buyer=, seller=, trade_id=141824),\n",
       " TradeTick(timestamp=2023-11-17 23:05:25.041069, instrument_id=CSCO, price=35.7, volume=450, aggressor_side=ask, buyer=, seller=, trade_id=141830),\n",
       " TradeTick(timestamp=2023-11-17 23:05:26.971609, instrument_id=CSCO, price=35.6, volume=10, aggressor_side=ask, buyer=, seller=, trade_id=141852),\n",
       " TradeTick(timestamp=2023-11-17 23:05:26.971877, instrument_id=CSCO, price=35.6, volume=480, aggressor_side=ask, buyer=, seller=, trade_id=141853),\n",
       " TradeTick(timestamp=2023-11-17 23:05:28.435565, instrument_id=CSCO, price=35.5, volume=450, aggressor_side=ask, buyer=, seller=, trade_id=141865),\n",
       " TradeTick(timestamp=2023-11-17 23:05:33.484003, instrument_id=CSCO, price=35.6, volume=450, aggressor_side=ask, buyer=, seller=, trade_id=141905),\n",
       " TradeTick(timestamp=2023-11-17 23:05:34.836069, instrument_id=CSCO, price=35.6, volume=480, aggressor_side=ask, buyer=, seller=, trade_id=141917),\n",
       " TradeTick(timestamp=2023-11-17 23:05:37.035988, instrument_id=CSCO, price=35.800000000000004, volume=450, aggressor_side=bid, buyer=, seller=, trade_id=141932),\n",
       " TradeTick(timestamp=2023-11-17 23:05:38.150355, instrument_id=CSCO, price=35.9, volume=450, aggressor_side=bid, buyer=, seller=, trade_id=141940),\n",
       " TradeTick(timestamp=2023-11-17 23:05:38.712314, instrument_id=CSCO, price=35.9, volume=500, aggressor_side=bid, buyer=, seller=, trade_id=141949),\n",
       " TradeTick(timestamp=2023-11-17 23:05:39.136336, instrument_id=CSCO, price=35.9, volume=125, aggressor_side=ask, buyer=, seller=, trade_id=141953),\n",
       " TradeTick(timestamp=2023-11-17 23:05:40.192286, instrument_id=CSCO, price=35.6, volume=450, aggressor_side=ask, buyer=, seller=, trade_id=141956),\n",
       " TradeTick(timestamp=2023-11-17 23:05:41.444902, instrument_id=CSCO, price=36.0, volume=10, aggressor_side=bid, buyer=, seller=, trade_id=141969),\n",
       " TradeTick(timestamp=2023-11-17 23:05:41.445401, instrument_id=CSCO, price=36.1, volume=440, aggressor_side=bid, buyer=, seller=, trade_id=141970),\n",
       " TradeTick(timestamp=2023-11-17 23:05:42.404668, instrument_id=CSCO, price=35.9, volume=500, aggressor_side=ask, buyer=, seller=, trade_id=141983),\n",
       " TradeTick(timestamp=2023-11-17 23:05:42.878272, instrument_id=CSCO, price=35.9, volume=125, aggressor_side=ask, buyer=, seller=, trade_id=141987),\n",
       " TradeTick(timestamp=2023-11-17 23:05:43.822200, instrument_id=CSCO, price=36.0, volume=450, aggressor_side=bid, buyer=, seller=, trade_id=141997),\n",
       " TradeTick(timestamp=2023-11-17 23:05:44.838791, instrument_id=CSCO, price=36.0, volume=450, aggressor_side=bid, buyer=, seller=, trade_id=142004),\n",
       " TradeTick(timestamp=2023-11-17 23:05:45.926066, instrument_id=CSCO, price=35.9, volume=450, aggressor_side=ask, buyer=, seller=, trade_id=142011),\n",
       " TradeTick(timestamp=2023-11-17 23:05:46.525590, instrument_id=CSCO, price=35.9, volume=30, aggressor_side=ask, buyer=, seller=, trade_id=142020),\n",
       " TradeTick(timestamp=2023-11-17 23:05:46.526046, instrument_id=CSCO, price=35.9, volume=470, aggressor_side=ask, buyer=, seller=, trade_id=142021),\n",
       " TradeTick(timestamp=2023-11-17 23:05:47.363132, instrument_id=CSCO, price=36.0, volume=450, aggressor_side=bid, buyer=, seller=, trade_id=142026),\n",
       " TradeTick(timestamp=2023-11-17 23:05:50.696138, instrument_id=CSCO, price=35.9, volume=450, aggressor_side=bid, buyer=, seller=, trade_id=142059),\n",
       " TradeTick(timestamp=2023-11-17 23:05:53.733550, instrument_id=CSCO, price=35.7, volume=10, aggressor_side=ask, buyer=, seller=, trade_id=142079),\n",
       " TradeTick(timestamp=2023-11-17 23:05:54.644850, instrument_id=CSCO, price=35.9, volume=50, aggressor_side=bid, buyer=, seller=, trade_id=142083),\n",
       " TradeTick(timestamp=2023-11-17 23:05:54.645160, instrument_id=CSCO, price=35.9, volume=400, aggressor_side=bid, buyer=, seller=, trade_id=142084),\n",
       " TradeTick(timestamp=2023-11-17 23:05:55.128186, instrument_id=CSCO, price=35.9, volume=480, aggressor_side=bid, buyer=, seller=, trade_id=142088),\n",
       " TradeTick(timestamp=2023-11-17 23:05:55.540340, instrument_id=CSCO, price=35.9, volume=20, aggressor_side=bid, buyer=, seller=, trade_id=142095),\n",
       " TradeTick(timestamp=2023-11-17 23:05:55.540831, instrument_id=CSCO, price=35.9, volume=10, aggressor_side=bid, buyer=, seller=, trade_id=142096),\n",
       " TradeTick(timestamp=2023-11-17 23:05:56.634112, instrument_id=CSCO, price=36.2, volume=450, aggressor_side=bid, buyer=, seller=, trade_id=142104),\n",
       " TradeTick(timestamp=2023-11-17 23:05:58.024035, instrument_id=CSCO, price=36.0, volume=450, aggressor_side=ask, buyer=, seller=, trade_id=142113),\n",
       " TradeTick(timestamp=2023-11-17 23:05:58.716267, instrument_id=CSCO, price=36.0, volume=175, aggressor_side=ask, buyer=, seller=, trade_id=142120),\n",
       " TradeTick(timestamp=2023-11-17 23:05:58.944265, instrument_id=CSCO, price=35.800000000000004, volume=10, aggressor_side=ask, buyer=, seller=, trade_id=142124),\n",
       " TradeTick(timestamp=2023-11-17 23:05:58.944455, instrument_id=CSCO, price=35.800000000000004, volume=440, aggressor_side=ask, buyer=, seller=, trade_id=142125),\n",
       " TradeTick(timestamp=2023-11-17 23:06:00.110031, instrument_id=CSCO, price=35.7, volume=450, aggressor_side=ask, buyer=, seller=, trade_id=142129),\n",
       " TradeTick(timestamp=2023-11-17 23:06:00.732025, instrument_id=CSCO, price=35.800000000000004, volume=480, aggressor_side=bid, buyer=, seller=, trade_id=142134),\n",
       " TradeTick(timestamp=2023-11-17 23:06:01.480915, instrument_id=CSCO, price=35.800000000000004, volume=145, aggressor_side=ask, buyer=, seller=, trade_id=142137),\n",
       " TradeTick(timestamp=2023-11-17 23:06:02.513256, instrument_id=CSCO, price=35.800000000000004, volume=10, aggressor_side=bid, buyer=, seller=, trade_id=142148),\n",
       " TradeTick(timestamp=2023-11-17 23:06:02.513532, instrument_id=CSCO, price=35.9, volume=325, aggressor_side=bid, buyer=, seller=, trade_id=142149),\n",
       " TradeTick(timestamp=2023-11-17 23:06:02.513711, instrument_id=CSCO, price=35.9, volume=115, aggressor_side=bid, buyer=, seller=, trade_id=142150),\n",
       " TradeTick(timestamp=2023-11-17 23:06:04.421054, instrument_id=CSCO, price=35.9, volume=450, aggressor_side=bid, buyer=, seller=, trade_id=142169),\n",
       " TradeTick(timestamp=2023-11-17 23:06:05.904021, instrument_id=CSCO, price=35.9, volume=10, aggressor_side=bid, buyer=, seller=, trade_id=142180),\n",
       " TradeTick(timestamp=2023-11-17 23:06:06.506191, instrument_id=CSCO, price=36.0, volume=480, aggressor_side=bid, buyer=, seller=, trade_id=142185),\n",
       " TradeTick(timestamp=2023-11-17 23:06:07.281216, instrument_id=CSCO, price=36.1, volume=10, aggressor_side=ask, buyer=, seller=, trade_id=142194),\n",
       " TradeTick(timestamp=2023-11-17 23:06:07.281422, instrument_id=CSCO, price=36.0, volume=145, aggressor_side=ask, buyer=, seller=, trade_id=142195)]"
      ]
     },
     "execution_count": 7,
     "metadata": {},
     "output_type": "execute_result"
    }
   ],
   "source": [
    "# Poll all public tradeticks since the last time this method was called\n",
    "exchange.poll_new_trade_ticks(instrument_id)"
   ]
  },
  {
   "cell_type": "markdown",
   "id": "5419b543-5cc1-4bb0-9df2-af7684ccd0b1",
   "metadata": {},
   "source": [
    "### Private trades"
   ]
  },
  {
   "cell_type": "code",
   "execution_count": null,
   "id": "5dd35c7d-c2b0-48d7-93a8-0efeebb8b093",
   "metadata": {},
   "outputs": [],
   "source": [
    "# Load and store a list of all private trades you participated in since the instantiation of the Exchange (upto a max limit)\n",
    "trade_history = exchange.get_trade_history(instrument_id)\n",
    "\n",
    "# Display last 5\n",
    "trade_history[-5:]"
   ]
  },
  {
   "cell_type": "code",
   "execution_count": null,
   "id": "905cbd32-379b-4a01-aa63-7550b61fde58",
   "metadata": {},
   "outputs": [],
   "source": [
    "# Poll all private trades since the last time this method was called\n",
    "exchange.poll_new_trades(instrument_id)"
   ]
  },
  {
   "cell_type": "markdown",
   "id": "6ee74134-f310-41e8-9de0-aabe458c91f1",
   "metadata": {},
   "source": [
    "### Position & PnL"
   ]
  },
  {
   "cell_type": "code",
   "execution_count": null,
   "id": "5785926a-331b-4e43-ad16-6489430fdc43",
   "metadata": {},
   "outputs": [],
   "source": [
    "# Load current positions in all instruments\n",
    "exchange.get_positions()"
   ]
  },
  {
   "cell_type": "code",
   "execution_count": null,
   "id": "1016a928-4f7b-4c00-bb5b-4f5ed830ccc7",
   "metadata": {},
   "outputs": [],
   "source": [
    "# Load current positions in all instruments, including cash component (how much did we invest or gain by trading each instrument)\n",
    "exchange.get_positions_and_cash()"
   ]
  },
  {
   "cell_type": "code",
   "execution_count": null,
   "id": "1b9f95bf-d847-47de-bff7-3bb68188409b",
   "metadata": {},
   "outputs": [],
   "source": [
    "# Current PnL: sum of all cash components and value of the positions (evaluated against last-traded price) \n",
    "exchange.get_pnl()"
   ]
  },
  {
   "cell_type": "markdown",
   "id": "3a322fbd-e1e3-4e8a-b5a2-8387b7062c44",
   "metadata": {},
   "source": [
    "# Orders"
   ]
  },
  {
   "cell_type": "markdown",
   "id": "ec396b72-70c6-4cf1-8412-4368f6aa9a4c",
   "metadata": {},
   "source": [
    "### Inserting"
   ]
  },
  {
   "cell_type": "code",
   "execution_count": null,
   "id": "ac9dcb15-b55b-4500-a516-2a4e918397e7",
   "metadata": {},
   "outputs": [],
   "source": [
    "# Insert bid LIMIT order - this trades against any current orders, and any remainders become new resting orders in the book\n",
    "# The returned value is a 'InsertOrderResponse' which, if successfull, contains the order_id of the order\n",
    "exchange.insert_order(instrument_id, price=10, volume=5, side='bid', order_type='limit')"
   ]
  },
  {
   "cell_type": "code",
   "execution_count": null,
   "id": "cdf2c01e-4de7-4b5d-bad7-f72c3f67dc93",
   "metadata": {},
   "outputs": [],
   "source": [
    "# Insert ask LIMIT order - this trades against any current orders, and any remainders become new resting orders in the book\n",
    "exchange.insert_order(instrument_id, price=20, volume=5, side='ask', order_type='limit')"
   ]
  },
  {
   "cell_type": "code",
   "execution_count": null,
   "id": "a85e2846-51b2-426f-b5da-f189502a1a44",
   "metadata": {},
   "outputs": [],
   "source": [
    "# Insert bid IOC order - this order trades against any resting volume which has an equal or better price, but does not remain in the \n",
    "# book if any volume is unfilled\n",
    "exchange.insert_order(instrument_id, price=10, volume=5, side='bid', order_type='ioc')"
   ]
  },
  {
   "cell_type": "code",
   "execution_count": null,
   "id": "4ce39bcc-5a61-4c86-9a89-ef2f29d0e4cf",
   "metadata": {},
   "outputs": [],
   "source": [
    "# Insert ask IOC order - this order trades against any resting volume which has an equal or better price, but does not remain in the \n",
    "# book if any volume is unfilled\n",
    "exchange.insert_order(instrument_id, price=20, volume=5, side='ask', order_type='ioc')"
   ]
  },
  {
   "cell_type": "markdown",
   "id": "456c74c9-f7fa-433f-ab60-8288b452c8fd",
   "metadata": {},
   "source": [
    "### Deleting & amending"
   ]
  },
  {
   "cell_type": "code",
   "execution_count": null,
   "id": "29dfeebc-4f88-41c6-a07b-b94a997d082c",
   "metadata": {},
   "outputs": [],
   "source": [
    "# Load a list of own outstanding/resting orders\n",
    "exchange.get_outstanding_orders(instrument_id)"
   ]
  },
  {
   "cell_type": "code",
   "execution_count": null,
   "id": "da5df034-dc73-42d3-b0ba-c113e8a3f6f7",
   "metadata": {},
   "outputs": [],
   "source": [
    "# Delete an order by order_id, the returned DeleteOrderRequest contains a boolean showing whether the delete was succesful\n",
    "exchange.delete_order(instrument_id, order_id=1234)"
   ]
  },
  {
   "cell_type": "code",
   "execution_count": null,
   "id": "cca548dd-9f1b-4e1b-99c4-04efbd4d289a",
   "metadata": {},
   "outputs": [],
   "source": [
    "# Delete all outstanding orders for an instrument\n",
    "exchange.delete_orders(instrument_id)"
   ]
  },
  {
   "cell_type": "code",
   "execution_count": null,
   "id": "c2b9a407-ab66-49a2-a389-9a79c9819d25",
   "metadata": {},
   "outputs": [],
   "source": [
    "# Change (amend) the volume of an existing resting order by order_id, the returned AmendOrderResponse contains a boolean showing whether the amend was succesful\n",
    "exchange.amend_order(instrument_id, order_id=1234, volume=30)"
   ]
  },
  {
   "cell_type": "markdown",
   "id": "ddebfb30-9fae-4ca8-9834-500558435dfb",
   "metadata": {},
   "source": [
    "# Code Snippets"
   ]
  },
  {
   "cell_type": "markdown",
   "id": "f42a856e-6bff-40a7-ba1f-9596cff5914f",
   "metadata": {},
   "source": [
    "Combining a few of the exchange interactions above, we can write a code snippet to aggressively trade out of all currently held positions using IOC orders. \n",
    "\n",
    "That means selling all products you are long, and buying back all you are short. \n",
    "\n",
    "This is useful for starting with a clean slate, but doing so will come at a potentially large cost. \n",
    "\n",
    "You are not guaranteed to end up with a zero position afterwards, only that volume which is also available to trade in the market will be bought/sold."
   ]
  },
  {
   "cell_type": "code",
   "execution_count": null,
   "id": "556b6ad0-c62a-4324-9638-b9357676fecf",
   "metadata": {},
   "outputs": [],
   "source": [
    "MIN_SELLING_PRICE = 0.10\n",
    "MAX_BUYING_PRICE = 100000.00\n",
    "\n",
    "positions = exchange.get_positions()\n",
    "pnl = exchange.get_pnl()\n",
    "\n",
    "print(f'Positions before: {positions}')\n",
    "print(f'\\nPnL before: {pnl:.2f}')\n",
    "\n",
    "print(f'\\nTrading out of positions')\n",
    "for iid, pos in positions.items():\n",
    "    if pos > 0:\n",
    "        print(f'-- Inserting sell order for {pos} lots of {iid}, with limit price {MIN_SELLING_PRICE:.2f}')\n",
    "        exchange.insert_order(iid, price=MIN_SELLING_PRICE, volume=pos, side='ask', order_type='ioc')\n",
    "    elif pos < 0:\n",
    "        print(f'-- Inserting buy order for {abs(pos)} lots of {iid}, with limit price {MAX_BUYING_PRICE:.2f}')\n",
    "        exchange.insert_order(iid, price=MAX_BUYING_PRICE, volume=-pos, side='bid', order_type='ioc')\n",
    "    else:\n",
    "        print(f'-- No initial position in {iid}, skipping..')\n",
    "    \n",
    "    time.sleep(0.10)\n",
    "\n",
    "time.sleep(1.0)\n",
    "\n",
    "positions = exchange.get_positions()\n",
    "pnl = exchange.get_pnl()\n",
    "print(f'\\nPositions after: {positions}')\n",
    "print(f'\\nPnL after: {pnl:.2f}')"
   ]
  },
  {
   "cell_type": "code",
   "execution_count": null,
   "id": "2a98c3de-c0e3-4a43-adf6-9879ce22b50a",
   "metadata": {},
   "outputs": [],
   "source": []
  }
 ],
 "metadata": {
  "kernelspec": {
   "display_name": "Python 3",
   "language": "python",
   "name": "python3"
  },
  "language_info": {
   "codemirror_mode": {
    "name": "ipython",
    "version": 3
   },
   "file_extension": ".py",
   "mimetype": "text/x-python",
   "name": "python",
   "nbconvert_exporter": "python",
   "pygments_lexer": "ipython3",
   "version": "3.6.12"
  }
 },
 "nbformat": 4,
 "nbformat_minor": 5
}
